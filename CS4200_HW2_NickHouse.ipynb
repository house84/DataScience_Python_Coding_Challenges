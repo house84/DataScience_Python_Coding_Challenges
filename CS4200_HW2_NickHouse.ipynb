{
 "cells": [
  {
   "cell_type": "markdown",
   "metadata": {},
   "source": [
    "Nick House, CS-4200, HW2\n",
    "\n",
    "1.\tTextbook Chap 4 Exercise 4.6 \n",
    "\n",
    "4.6 (MODIFIED AVERAGE FUNCTION) The average function we defined in Section 4.11 can receive any number of arguments. If you call it with no arguments, however, the function causes a ZeroDivisionError. Reimplement average to receive one required argument and the arbitrary argument list argument *args, and update its calculation accordingly. Test your function. The function will always require at least one argument, so you’ll no longer be able to get a ZeroDivisionError. When you call average with no arguments, Python should issue a TypeError indicating \"average() missing 1 required positional argument.\""
   ]
  },
  {
   "cell_type": "code",
   "execution_count": 1,
   "metadata": {},
   "outputs": [
    {
     "ename": "TypeError",
     "evalue": "average() missing 1 required positional argument: 'arg1'",
     "output_type": "error",
     "traceback": [
      "\u001b[1;31m---------------------------------------------------------------------------\u001b[0m",
      "\u001b[1;31mTypeError\u001b[0m                                 Traceback (most recent call last)",
      "\u001b[1;32m<ipython-input-1-89478951491d>\u001b[0m in \u001b[0;36m<module>\u001b[1;34m\u001b[0m\n\u001b[0;32m      4\u001b[0m \u001b[1;31m#TypeError: average() missing 1 required positional argument: 'arg1' is now\u001b[0m\u001b[1;33m\u001b[0m\u001b[1;33m\u001b[0m\u001b[1;33m\u001b[0m\u001b[0m\n\u001b[0;32m      5\u001b[0m \u001b[1;31m#thrown rather than ZeroDivisionError when no arguments are passed.\u001b[0m\u001b[1;33m\u001b[0m\u001b[1;33m\u001b[0m\u001b[1;33m\u001b[0m\u001b[0m\n\u001b[1;32m----> 6\u001b[1;33m \u001b[0mprint\u001b[0m\u001b[1;33m(\u001b[0m\u001b[0maverage\u001b[0m\u001b[1;33m(\u001b[0m\u001b[1;33m)\u001b[0m\u001b[1;33m)\u001b[0m\u001b[1;33m\u001b[0m\u001b[1;33m\u001b[0m\u001b[0m\n\u001b[0m",
      "\u001b[1;31mTypeError\u001b[0m: average() missing 1 required positional argument: 'arg1'"
     ]
    }
   ],
   "source": [
    "def average(arg1, *args):\n",
    "    return sum(args, arg1) / (len(args)+1)\n",
    "\n",
    "#TypeError: average() missing 1 required positional argument: 'arg1' is now\n",
    "#thrown rather than ZeroDivisionError when no arguments are passed. \n",
    "print(average())"
   ]
  },
  {
   "cell_type": "code",
   "execution_count": 2,
   "metadata": {},
   "outputs": [
    {
     "name": "stdout",
     "output_type": "stream",
     "text": [
      "Single argument (2) \t\t Avg: 2.00\n",
      "Two arguments(2,4) \t\t Avg: 3.00\n",
      "Six arguments (1,2,3,4,5,6) \t Avg: 3.50\n"
     ]
    }
   ],
   "source": [
    "print(\"Single argument (2) \\t\\t Avg: %.2f\" %average(2))\n",
    "print(\"Two arguments(2,4) \\t\\t Avg: %.2f\" %average(2,4))\n",
    "print(\"Six arguments (1,2,3,4,5,6) \\t Avg: %.2f\" %average(1,2,3,4,5,6))"
   ]
  },
  {
   "cell_type": "markdown",
   "metadata": {},
   "source": [
    "2.\tTextbook Chap 4 Exercise 4.13 \n",
    "\n",
    "4.13 (ARBITRARY ARGUMENT LIST) Calculate the product of a series of integers that are passed to the function product, which receives an arbitrary argument list. Test your function with several calls, each with a different number of arguments."
   ]
  },
  {
   "cell_type": "code",
   "execution_count": 3,
   "metadata": {
    "scrolled": true
   },
   "outputs": [
    {
     "name": "stdout",
     "output_type": "stream",
     "text": [
      "Product of 1, 2 and 3 is: 6\n",
      "Product of 233 and 3 is: 699\n",
      "Product of 36 and 0 is: 0\n",
      "Product of no arguments is nothing or 0\n"
     ]
    }
   ],
   "source": [
    "def product(*args): \n",
    "    #check for argument\n",
    "    if(len(args) == 0 ):\n",
    "        return 0\n",
    "    #given > 0 args set product to 1\n",
    "    product = 1\n",
    "    \n",
    "    #iterate through args and find product\n",
    "    for num in args:\n",
    "        product *= num\n",
    "    \n",
    "    return product\n",
    "\n",
    "#Test Function with varying parameters\n",
    "print(\"Product of 1, 2 and 3 is: %d\" %product(1,2,3))\n",
    "print(\"Product of 233 and 3 is: %d\" %product(233, 3))\n",
    "print(\"Product of 36 and 0 is: %d\" %product(36, 0))\n",
    "print(\"Product of no arguments is nothing or %d\" %product())"
   ]
  },
  {
   "cell_type": "markdown",
   "metadata": {},
   "source": [
    "3. Re-do Ex. 3.18 such that the solution script is exactly two lines of code, with the first line a single for, and the second a single print statement (the print statement constitutes the body of the for loop). [Hint: Check https://docs.python.org/3.7/tutorial/inputoutput.html] "
   ]
  },
  {
   "cell_type": "code",
   "execution_count": 4,
   "metadata": {},
   "outputs": [
    {
     "name": "stdout",
     "output_type": "stream",
     "text": [
      "*            **********   **********            *\n",
      "**           *********     *********           **\n",
      "***          ********       ********          ***\n",
      "****         *******         *******         ****\n",
      "*****        ******           ******        *****\n",
      "******       *****             *****       ******\n",
      "*******      ****               ****      *******\n",
      "********     ***                 ***     ********\n",
      "*********    **                   **    *********\n",
      "**********   *                     *   **********\n"
     ]
    }
   ],
   "source": [
    "for x in range(1, 11):\n",
    "    print('{0:<10.{2}}{1:3}{0:<10.{3}}{1:3}{0:>10.{3}}{1:3}{0:>10.{2}}'.format('**********', \" \",  x, 11-x))"
   ]
  },
  {
   "cell_type": "markdown",
   "metadata": {},
   "source": [
    "4. Change a list (of integers) in-place (i.e., the changed list is not to be created as a new list) as follows. Any occurrence of an integer divisible by 3 is to be replaced with the string “good”, any occurrence of an integer divisible by 5 with “better”, and any occurrence of an integer divisible by both 3 and 5 with “best”. Pass the original list to a function which will perform the replacement task. Print the list before and after the function call. The function should have exactly three lines: the mandatory def line plus two more lines (do not use semicolon separation to physically pack more than one statement into a physical line). An example: [3, 8, 2, 5, 30, 7, 9] is to be changed to ['good', 8, 2, 'better', 'best', 7, 'good']. [Hint: Consider a single for loop, with the loop body containing just a single statement.] "
   ]
  },
  {
   "cell_type": "code",
   "execution_count": 5,
   "metadata": {},
   "outputs": [],
   "source": [
    "#In-Place Swap Function\n",
    "def swap(list_ax):\n",
    "    for i, x in enumerate(list_ax):\n",
    "        list_ax[i] = 'Best' if x%3==0 and x%5==0 else 'Better' if x%5==0 else 'Good' if x%3==0 else x "
   ]
  },
  {
   "cell_type": "code",
   "execution_count": 6,
   "metadata": {},
   "outputs": [
    {
     "name": "stdout",
     "output_type": "stream",
     "text": [
      "***Display first list***\n",
      "Original list's address: 104459112\n",
      "Original list = [3, 4, 1, 5, 7, 6, 15]\n",
      "\n",
      "***First list after swap***\n",
      "Post swap list's address: 104459112\n",
      "Post swap list = ['Good', 4, 1, 'Better', 7, 'Good', 'Best']\n",
      "\n",
      "================================================================\n",
      "\n",
      "***Display Second list***\n",
      "Original list's address: 104458536\n",
      "Original list = [32, 2, 5, 3, 45, 876, 400]\n",
      "\n",
      "***First list after swap***\n",
      "Post swap list's address: 104458536\n",
      "Post swap list = [32, 2, 'Better', 'Good', 'Best', 'Good', 'Better']\n"
     ]
    }
   ],
   "source": [
    "#OUTPUT Testing of SWAP Function\n",
    "\n",
    "print(\"***Display first list***\")\n",
    "list=[3,4,1,5, 7, 6, 15]\n",
    "print(\"Original list's address: %d\" %id(list))\n",
    "print(\"Original list =\", end=\" \")\n",
    "print(list)\n",
    "\n",
    "print(\"\\n***First list after swap***\")\n",
    "swap(list)\n",
    "print(\"Post swap list's address: %d\" %id(list))\n",
    "print(\"Post swap list =\", end=\" \")\n",
    "print(list)\n",
    "\n",
    "print(\"\\n================================================================\\n\")\n",
    "\n",
    "print(\"***Display Second list***\")\n",
    "list2=[32,2,5,3,45,876,400]\n",
    "print(\"Original list's address: %d\" %id(list2))\n",
    "print(\"Original list =\", end=\" \")\n",
    "print(list2)\n",
    "\n",
    "\n",
    "print(\"\\n***First list after swap***\")\n",
    "swap(list2)\n",
    "print(\"Post swap list's address: %d\" %id(list2))\n",
    "print(\"Post swap list =\", end=\" \")\n",
    "print(list2)"
   ]
  }
 ],
 "metadata": {
  "kernelspec": {
   "display_name": "Python 3",
   "language": "python",
   "name": "python3"
  },
  "language_info": {
   "codemirror_mode": {
    "name": "ipython",
    "version": 3
   },
   "file_extension": ".py",
   "mimetype": "text/x-python",
   "name": "python",
   "nbconvert_exporter": "python",
   "pygments_lexer": "ipython3",
   "version": "3.8.1"
  }
 },
 "nbformat": 4,
 "nbformat_minor": 4
}
