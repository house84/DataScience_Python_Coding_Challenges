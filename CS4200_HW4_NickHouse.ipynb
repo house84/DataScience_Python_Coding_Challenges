{
 "cells": [
  {
   "cell_type": "markdown",
   "metadata": {},
   "source": [
    "1) 6.8 (CHALLENGE: WRITING THE WORD EQUIVALENT OF A CHECK AMOUNT)\n",
    " \n",
    " In check-writing systems, it’s crucial to prevent alteration of check amounts. One common security method requires that the amount be written in numbers and spelled out in words as well. Even if someone can alter the numerical amount of the check, it’s tough to change the amount in words. Create a dictionary that maps numbers to their corresponding word equivalents. Write a script that inputs a numeric check amount that’s less than 1000 and uses the dictionary to write the word equivalent of the amount. For example, the amount 112.43 should be written as\n",
    "\n",
    "ONE HUNDRED TWELVE AND 43/100"
   ]
  },
  {
   "cell_type": "code",
   "execution_count": 1,
   "metadata": {
    "scrolled": true
   },
   "outputs": [
    {
     "name": "stdout",
     "output_type": "stream",
     "text": [
      "Testing $1000.00:  Amount must be below 1000.00\n",
      "Testing $999.99:  NINE HUNDRED NINETY NINE AND 99/100\n",
      "Testing $305.00:  THREE HUNDRED FIVE AND 00/100\n",
      "Testing $112.43:  ONE HUNDRED TWELVE AND 43/100\n",
      "Testing $15.05:  FIFTEEN AND 05/100\n",
      "Testing $7.12:  SEVEN AND 12/100\n"
     ]
    }
   ],
   "source": [
    "#Format Check Amount to Words\n",
    "def check_reader(amount):\n",
    "    \n",
    "    #Split\n",
    "    dollar_cents = str(amount).split('.')\n",
    "    dollar = str(dollar_cents[0])\n",
    "    cents = str(dollar_cents[1])\n",
    "    \n",
    "    #Dictionaries \n",
    "    hundreds = {'1': 'ONE HUNDRED', '2':'TWO HUNDRED', '3':'THREE HUNDRED', '4':'FOUR HUNDRED', '5':'FIVE HUNDRED', \n",
    "                '6':'SIX HUNDRED', '7':'SEVEN HUNDRED','8':'EIGHT HUNDRED', '9':'NINE HUNDRED'}\n",
    "    \n",
    "    tens = {'1': \"\", '2':'TWENTY', '3':'THIRTY', '4':'FOURTY', '5':'FIFTY', '6':'SIXTY', '7':'SEVENTY', '8':'EIGHTY', '9':'NINETY'}\n",
    "    \n",
    "    teens = {'11':'ELEVEN', '12':'TWELVE','13':'THIRTEEN','14':'FOURTEEN', '15':'FIFTEEN', '16':'SIXTEEN','17':'SEVENTEEN',\n",
    "            '18':'EIGHTEEN', '19':'NINETEEN'}\n",
    "  \n",
    "    base = {'1':'ONE','2':'TWO','3':'THREE','4':'FOUR','5':'FIVE','6':'SIX','7':'SEVEN','8':'EIGHT','9':'NINE'}\n",
    "  \n",
    "    digit = 1\n",
    "    display = \"\"\n",
    "    \n",
    "    if(len(dollar) == 1): \n",
    "        display += base[dollar] + \" \"\n",
    "        \n",
    "    elif(len(dollar) > 3 ):\n",
    "        return (\"Amount must be below 1000.00\")\n",
    "        \n",
    "    else:\n",
    "        for i in dollar:\n",
    "\n",
    "            if( len(dollar) == 3 and digit == 1 ):\n",
    "                display += hundreds[i] + \" \"\n",
    "\n",
    "            if((len(dollar) == 2 and digit == 1 and int(i) != 1) or (len(dollar) == 3 and digit == 2 and int(i) > 1 )):\n",
    "                display += tens[i] + \" \"\n",
    "         \n",
    "            if((len(dollar) == 2 and digit == 2 ) or (digit == 3 and int(i) != 0 )):\n",
    "                display += base[i] + \" \"      \n",
    "              \n",
    "            elif ((len(dollar) == 2 and int(i) == 1 and digit == 1) or ( digit == 2 and int(i) == 1 )):\n",
    "                digit += 2\n",
    "                display += teens[dollar[-2:]] + \" \"\n",
    "                break\n",
    "\n",
    "            digit += 1    \n",
    "    \n",
    "    return (display + \"AND %.2d/100\" %int(cents) )\n",
    "    \n",
    "#Test Functions \n",
    "print(\"Testing $1000.00: \", check_reader(1000.00))\n",
    "\n",
    "print(\"Testing $999.99: \", check_reader(999.99))\n",
    "\n",
    "print(\"Testing $305.00: \", check_reader(305.00))\n",
    "\n",
    "print(\"Testing $112.43: \", check_reader(112.43))\n",
    "\n",
    "print(\"Testing $15.05: \", check_reader(15.05))\n",
    "\n",
    "print(\"Testing $7.12: \", check_reader(7.12))\n"
   ]
  },
  {
   "cell_type": "markdown",
   "metadata": {},
   "source": [
    "2) Use the set type to do the following: Given alist of integers that may contain multiple occurrences of some integers, produce a list with the repetitions, if any, removed. Use exactly one line(other than a possible first line thatyou may use to create the original list)."
   ]
  },
  {
   "cell_type": "code",
   "execution_count": 2,
   "metadata": {},
   "outputs": [
    {
     "name": "stdout",
     "output_type": "stream",
     "text": [
      "{1, 2, 3, 4, 5, 6, 7, 8, 9, 10}\n"
     ]
    }
   ],
   "source": [
    "integerList = [ 1, 2, 3, 4, 2, 4, 5, 6, 7, 8, 5, 7, 8, 2, 6, 9, 9, 10 ]\n",
    "\n",
    "print(set(integerList)) "
   ]
  },
  {
   "cell_type": "markdown",
   "metadata": {},
   "source": [
    "3)\n",
    "\n",
    "a) Given a string, use a dictionary to obtain the counts of the individual characters in the string. The key will be the character and the value of the corresponding count.E.g., “unusuallygood” should produce the following:{'u': 3, 'n': 1, 's': 1, 'a': 1, 'l': 2, 'y': 1, ' ': 1, 'g': 1, 'o': 2, 'd': 1}"
   ]
  },
  {
   "cell_type": "code",
   "execution_count": 3,
   "metadata": {},
   "outputs": [
    {
     "name": "stdout",
     "output_type": "stream",
     "text": [
      "{'u': 3, 'n': 1, 's': 1, 'a': 1, 'l': 2, 'y': 1, 'g': 1, 'o': 2, 'd': 1}\n"
     ]
    }
   ],
   "source": [
    "newWord = \"unusuallygood\"\n",
    "keyCountList ={}\n",
    "\n",
    "for key in newWord:\n",
    "    keyCountList[key] = keyCountList.get(key, 0) + 1\n",
    "    \n",
    "print(keyCountList)"
   ]
  },
  {
   "cell_type": "markdown",
   "metadata": {},
   "source": [
    "3)\n",
    "\n",
    "b) Next, produce an inverted dictionary from the first dictionary where the key in the new dictionary will represent the integer count and the value the corresponding character or, if multiple character shave the same count, a list of the characters.If there is only one character corresponding to a count, that character should not be put in alist. E.g., inversion of the above dictionaryshould produce:{3: 'u', 1: ['n', 's', 'a', 'y', ' ', 'g', 'd'], 2: ['l', 'o']}"
   ]
  },
  {
   "cell_type": "code",
   "execution_count": 4,
   "metadata": {},
   "outputs": [
    {
     "name": "stdout",
     "output_type": "stream",
     "text": [
      "{'3': ['u'], '1': ['n', 's', 'a', 'y', 'g', 'd'], '2': ['l', 'o']}\n"
     ]
    }
   ],
   "source": [
    "#countList = {value: key for key, value in keyCountList.items()}\n",
    "countList = {}\n",
    "\n",
    "for key, value in keyCountList.items():\n",
    "    for items in str(value):\n",
    "        countList.setdefault(items, []).append(key)\n",
    "\n",
    "print(countList)"
   ]
  }
 ],
 "metadata": {
  "kernelspec": {
   "display_name": "Python 3",
   "language": "python",
   "name": "python3"
  },
  "language_info": {
   "codemirror_mode": {
    "name": "ipython",
    "version": 3
   },
   "file_extension": ".py",
   "mimetype": "text/x-python",
   "name": "python",
   "nbconvert_exporter": "python",
   "pygments_lexer": "ipython3",
   "version": "3.8.1"
  }
 },
 "nbformat": 4,
 "nbformat_minor": 4
}
