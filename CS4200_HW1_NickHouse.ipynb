{
 "cells": [
  {
   "cell_type": "markdown",
   "metadata": {},
   "source": [
    "3.12 (Palindromes) A palindrome is a number, word or text phrase that reads the same backwards or forwards. For example, each of the following five-digit integers is a palindrome: 12321, 55555, 45554 and 11611. Write a script that reads in a five-digit integer and determines whether it’s a palindrome. "
   ]
  },
  {
   "cell_type": "code",
   "execution_count": 1,
   "metadata": {},
   "outputs": [
    {
     "name": "stdout",
     "output_type": "stream",
     "text": [
      "Enter a 5 digit integer: 45654\n"
     ]
    }
   ],
   "source": [
    "while True:\n",
    "    try:\n",
    "        n = int(input(\"Enter a 5 digit integer: \"))\n",
    "    except ValueError:\n",
    "        print(\"Incorrect input, please enter an integer.\")\n",
    "        continue\n",
    "    if len(str(n)) !=5:\n",
    "        print(\"Make sure interger is 5 digits long\")\n",
    "        continue\n",
    "    else:\n",
    "        break\n",
    "        "
   ]
  },
  {
   "cell_type": "code",
   "execution_count": 2,
   "metadata": {},
   "outputs": [
    {
     "name": "stdout",
     "output_type": "stream",
     "text": [
      "45654 is a palindrome!\n"
     ]
    }
   ],
   "source": [
    "if str(n)[-5] == str(n)[-1] and str(n)[-4] == str(n)[-2]:\n",
    "    print(\"%d is a palindrome!\" %n)\n",
    "else:\n",
    "    print(\"%d is not a palindrome.\" %n)"
   ]
  },
  {
   "cell_type": "markdown",
   "metadata": {},
   "source": [
    "3.14 (Challenge: Approximating the Mathematical Constant π) Write a script that computes the value of π from the following infinite series. Print a table that shows the value of π approximated by one term of this series, by two terms, by three terms, and so on. How many terms of this series do you have to use before you first get 3.14? 3.141? 3.1415? 3.14159?"
   ]
  },
  {
   "cell_type": "code",
   "execution_count": 3,
   "metadata": {},
   "outputs": [
    {
     "name": "stdout",
     "output_type": "stream",
     "text": [
      "The value 3.14 first appears at term 119\n",
      "The value 3.141 first appears at term 1688\n",
      "The value 3.1415 first appears at term 10794\n",
      "The value 3.14159 first appears at term 136121\n"
     ]
    }
   ],
   "source": [
    "pi = 4.0\n",
    "n = 3\n",
    "flag = 0\n",
    "\n",
    "while True:\n",
    "    for i in range(200000):\n",
    "        \n",
    "        index = i+1\n",
    "        \n",
    "        if i == 0:\n",
    "            continue\n",
    "        \n",
    "        if i % 2 != 0:\n",
    "            pi = pi - 4/n\n",
    "            n = n + 2\n",
    "\n",
    "        if i % 2 == 0:\n",
    "            pi = pi + 4/n\n",
    "            n = n+2\n",
    "            \n",
    "        if float(str(pi)[:4]) == 3.14 and flag == 0:\n",
    "            flag += 1\n",
    "            print(\"The value 3.14 first appears at term %d\" %index)\n",
    "            \n",
    "        if float(str(pi)[:5]) == 3.141 and flag == 1:\n",
    "            flag += 1\n",
    "            print(\"The value 3.141 first appears at term %d\" %index)\n",
    "            \n",
    "        if float(str(pi)[:6]) == 3.1415 and flag == 2:\n",
    "            flag += 1\n",
    "            print(\"The value 3.1415 first appears at term %d\" %index)\n",
    "            \n",
    "        if float(str(pi)[:7]) == 3.14159 and flag == 3:\n",
    "            flag += 1\n",
    "            print(\"The value 3.14159 first appears at term %d\" %index)\n",
    "            break\n",
    "            \n",
    "    break\n",
    "        "
   ]
  },
  {
   "cell_type": "markdown",
   "metadata": {},
   "source": [
    "3.15 (Challenge: Approximating the Mathematical Constant e) Write a script that estimates the value of the mathematical constant e by using the formula below. Your script can stop after summing 10 terms."
   ]
  },
  {
   "cell_type": "code",
   "execution_count": 4,
   "metadata": {},
   "outputs": [
    {
     "name": "stdout",
     "output_type": "stream",
     "text": [
      "\n",
      "The approximation of Constant e at term 1 is 1.000000\n",
      "\n",
      "The approximation of Constant e at term 2 is 2.000000\n",
      "\n",
      "The approximation of Constant e at term 3 is 2.500000\n",
      "\n",
      "The approximation of Constant e at term 4 is 2.666667\n",
      "\n",
      "The approximation of Constant e at term 5 is 2.708333\n",
      "\n",
      "The approximation of Constant e at term 6 is 2.716667\n",
      "\n",
      "The approximation of Constant e at term 7 is 2.718056\n",
      "\n",
      "The approximation of Constant e at term 8 is 2.718254\n",
      "\n",
      "The approximation of Constant e at term 9 is 2.718279\n",
      "\n",
      "The approximation of Constant e at term 10 is 2.718282\n"
     ]
    }
   ],
   "source": [
    "import math\n",
    "\n",
    "e = 1.0\n",
    "\n",
    "for i in range(10):\n",
    "    if i == 0:\n",
    "        print(\"\\nThe approximation of Constant e at term %d is %f\" %(i+1, e))\n",
    "        continue\n",
    "        \n",
    "    e = e + 1/math.factorial(i)\n",
    "    \n",
    "    print(\"\\nThe approximation of Constant e at term %d is %f\" %(i+1, e))"
   ]
  },
  {
   "cell_type": "markdown",
   "metadata": {},
   "source": [
    "3.18 (Challenge: Nested Looping) Modify your script from Exercise 3.17 to display all four patterns side-by-side (as shown above) by making clever use of nested for loops. Separate each triangle from the next by three horizontal spaces. [Hint: One for loop should control the row number. Its nested for loops should calculate from the row number the appropriate number of asterisks and spaces for each of the four patterns.]"
   ]
  },
  {
   "cell_type": "code",
   "execution_count": 5,
   "metadata": {},
   "outputs": [
    {
     "name": "stdout",
     "output_type": "stream",
     "text": [
      "(a)          (b)          (c)          (d)      \n",
      "*            **********   **********            *               \n",
      "**           *********     *********           **               \n",
      "***          ********       ********          ***               \n",
      "****         *******         *******         ****               \n",
      "*****        ******           ******        *****               \n",
      "******       *****             *****       ******               \n",
      "*******      ****               ****      *******               \n",
      "********     ***                 ***     ********               \n",
      "*********    **                   **    *********               \n",
      "**********   *                     *   **********               \n"
     ]
    }
   ],
   "source": [
    "lst = ['(d)','(c)','(b)','(a)']\n",
    "\n",
    "#Print Header\n",
    "for i in range(1):\n",
    "    for j in range(40):\n",
    "        if i == 0:\n",
    "            if j % 11 == 0:\n",
    "                title = str(lst.pop())\n",
    "                print(title, end ='')\n",
    "            else:\n",
    "                print(\" \", end = '')\n",
    "\n",
    "print(\"\")\n",
    "\n",
    "rows = 10\n",
    "\n",
    "for i in range(rows):\n",
    "    for j in range(64):\n",
    "        \n",
    "        #Print (a)\n",
    "        if j < i+1 and j >= 0:\n",
    "            print(\"*\", end=\"\") \n",
    "        \n",
    "        #Print (b)\n",
    "        elif j < 23-i and j > 12:\n",
    "            print(\"*\", end=\"\") \n",
    "            \n",
    "        #Print (c)\n",
    "        elif j < 36 and j >= 26+i:\n",
    "            print(\"*\", end=\"\")\n",
    "            \n",
    "        #print (d)\n",
    "        elif j < 49 and j >= 48-i:\n",
    "            print(\"*\", end=\"\")\n",
    "        \n",
    "        else: print(\" \", end=\"\")\n",
    "\n",
    "    print(\"\")"
   ]
  },
  {
   "cell_type": "markdown",
   "metadata": {},
   "source": [
    "3.19 (Brute-Force Computing: Pythagorean Triples) A right triangle can have sides that are all integers. The set of three integer values for the sides of a right triangle is called a Pythagorean triple. These three sides must satisfy the relationship that the sum of the squares of two of the sides is equal to the square of the hypotenuse. Find all Pythagorean triples for side1, side2 and hypotenuse (such as 3, 4 and 5) all no larger than 20. Use a triple-nested for-loop that tries all possibilities. This is an example of “brute-force” computing. You’ll learn in more advanced computer science courses that there are many interesting problems for which there is no known algorithmic approach other than sheer brute force."
   ]
  },
  {
   "cell_type": "code",
   "execution_count": 6,
   "metadata": {},
   "outputs": [
    {
     "name": "stdout",
     "output_type": "stream",
     "text": [
      "\t***Pythagorean Triples***\n",
      "\n",
      "Side 1: 3\tSide 2: 4\tSide 3: 5\n",
      "Side 1: 5\tSide 2: 12\tSide 3: 13\n",
      "Side 1: 6\tSide 2: 8\tSide 3: 10\n",
      "Side 1: 8\tSide 2: 15\tSide 3: 17\n",
      "Side 1: 9\tSide 2: 12\tSide 3: 15\n"
     ]
    }
   ],
   "source": [
    "print(\"\\t***Pythagorean Triples***\\n\")\n",
    "\n",
    "found=[]\n",
    "\n",
    "for a in range(1,20):\n",
    "    for b in range(1,20):\n",
    "        for c in range(1,20): \n",
    "            x = c*c\n",
    "            y = a*a + b*b\n",
    "            if x == y:\n",
    "                \n",
    "                if x in found:\n",
    "                    break\n",
    "                else:\n",
    "                    found.append(x)\n",
    "                 \n",
    "                print(\"Side 1: %d\\tSide 2: %d\\tSide 3: %d\" %(a,b,c))       "
   ]
  },
  {
   "cell_type": "code",
   "execution_count": null,
   "metadata": {},
   "outputs": [],
   "source": []
  }
 ],
 "metadata": {
  "kernelspec": {
   "display_name": "Python 3",
   "language": "python",
   "name": "python3"
  },
  "language_info": {
   "codemirror_mode": {
    "name": "ipython",
    "version": 3
   },
   "file_extension": ".py",
   "mimetype": "text/x-python",
   "name": "python",
   "nbconvert_exporter": "python",
   "pygments_lexer": "ipython3",
   "version": "3.8.1"
  }
 },
 "nbformat": 4,
 "nbformat_minor": 4
}
