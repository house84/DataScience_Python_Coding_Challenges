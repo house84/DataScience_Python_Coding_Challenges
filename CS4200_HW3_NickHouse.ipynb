{
 "cells": [
  {
   "cell_type": "markdown",
   "metadata": {},
   "source": [
    "1.) Textbook Excercise 5.5\n",
    "\n",
    "    5.5 (IPYTHON SESSION: SLICING) Create a string called alphabet containing 'abcdefghijklmnopqrstuvwxyz', then perform the following separate slice operations to obtain:\n",
    "\n",
    "    The first half of the string using starting and ending indices.\n",
    "\n",
    "    The first half of the string using only the ending index.\n",
    "\n",
    "    The second half of the string using starting and ending indices.\n",
    "\n",
    "    The second half of the string using only the starting index.\n",
    "\n",
    "    Every second letter in the string starting with 'a'.\n",
    "\n",
    "    The entire string in reverse.\n",
    "\n",
    "    Every third letter of the string in reverse starting with 'z'."
   ]
  },
  {
   "cell_type": "code",
   "execution_count": 1,
   "metadata": {
    "scrolled": true
   },
   "outputs": [
    {
     "name": "stdout",
     "output_type": "stream",
     "text": [
      "First half using starting and ending indices: abcdefghijklm\n",
      "First half using only the ending index: abcdefghijklm\n",
      "Second half using starting and ending index: nopqrstuvwxyz\n",
      "Second half using the starting index: nopqrstuvwxyz\n",
      "Every Second letter starting with 'a': acegikmoqsuwy\n",
      "The entire string in reverse: zyxwvutsrqponmlkjihgfedcba\n",
      "Every third letter of the string in reverse from 'z': zxvtrpnljhfdb\n"
     ]
    }
   ],
   "source": [
    "#Create String\n",
    "alphabet = 'abcdefghijklmnopqrstuvwxyz'\n",
    "\n",
    "#Int to hold len alphabet/2\n",
    "half = int(len(alphabet)/2)\n",
    "\n",
    "print(\"First half using starting and ending indices: %s\" %alphabet[0:half])\n",
    "print(\"First half using only the ending index: %s\" %alphabet[:half])\n",
    "print(\"Second half using starting and ending index: %s\" %alphabet[half:26])\n",
    "print(\"Second half using the starting index: %s\" %alphabet[half:])\n",
    "print(\"Every Second letter starting with 'a': %s\" %alphabet[::2])\n",
    "print(\"The entire string in reverse: %s\" %alphabet[::-1])\n",
    "print(\"Every third letter of the string in reverse from 'z': %s\" %alphabet[::-2])"
   ]
  },
  {
   "cell_type": "markdown",
   "metadata": {},
   "source": [
    "2.) Textbook Excercise 5.7\n",
    "\n",
    "    5.7 (DUPLICATE ELIMINATION) Create a function that receives a list and returns a (possibly shorter) list containing only the unique values in sorted order. Test your function with a list of numbers and a list of strings."
   ]
  },
  {
   "cell_type": "code",
   "execution_count": 2,
   "metadata": {},
   "outputs": [
    {
     "name": "stdout",
     "output_type": "stream",
     "text": [
      "The original numeric list:  [3, 2, 5, 8, 1, 2, 6, 7, 2, 3, 1]\n",
      "Unique list from function:  [1, 2, 3, 5, 6, 7, 8]\n",
      "\n",
      "The original string list:  ['hi', 'test', 'ok', 'test', 'and', 'yes', 'hi', 'zoo']\n",
      "Unique list from function:  ['and', 'hi', 'ok', 'test', 'yes', 'zoo']\n"
     ]
    }
   ],
   "source": [
    "#Return an in order unique list\n",
    "def duplicate_Elimination(list):\n",
    "    \n",
    "    #New list to be returned\n",
    "    unique_list = []\n",
    "    \n",
    "    #Search and create list of unique values\n",
    "    for i in list:\n",
    "        if(i not in unique_list):\n",
    "            unique_list.append(i)\n",
    "    \n",
    "    #sort unique list\n",
    "    unique_list.sort()\n",
    "        \n",
    "    return unique_list\n",
    "        \n",
    "######################Testing Calls########################\n",
    "\n",
    "#Numeric List for testing\n",
    "num_list = [3,2,5,8,1,2,6,7,2,3,1]\n",
    "\n",
    "print(\"The original numeric list: \",num_list)\n",
    "print(\"Unique list from function: \", duplicate_Elimination(num_list))\n",
    "\n",
    "#String List for Testing\n",
    "str_list = [\"hi\", \"test\", \"ok\", \"test\", \"and\", \"yes\", \"hi\", \"zoo\"]\n",
    "\n",
    "print(\"\\nThe original string list: \", str_list)\n",
    "print(\"Unique list from function: \", duplicate_Elimination(str_list))\n",
    "\n"
   ]
  },
  {
   "cell_type": "markdown",
   "metadata": {},
   "source": [
    "3.) Re-do Ex 5.7 with the function’s body containing just a single statement (line). (Hint: Use slicing.)"
   ]
  },
  {
   "cell_type": "code",
   "execution_count": 3,
   "metadata": {},
   "outputs": [
    {
     "name": "stdout",
     "output_type": "stream",
     "text": [
      "The original numeric list:  [3, 2, 5, 8, 1, 2, 6, 7, 2, 3, 1]\n",
      "Unique list from function:  [1, 2, 3, 5, 6, 7, 8]\n",
      "\n",
      "The original string list:  ['hi', 'test', 'ok', 'test', 'and', 'yes', 'hi', 'zoo']\n",
      "Unique list from function:  ['and', 'hi', 'ok', 'test', 'yes', 'zoo']\n"
     ]
    }
   ],
   "source": [
    "#Return an in order unique list Using only one statment in the function body\n",
    "def duplicate_Elimination(list): \n",
    "    return sorted([x for i, x in enumerate(list) if x not in list[:i]]) \n",
    "\n",
    "######################Testing Calls########################\n",
    "    \n",
    "#Numeric List for testing\n",
    "num_list = [3,2,5,8,1,2,6,7,2,3,1]\n",
    "\n",
    "print(\"The original numeric list: \",num_list)\n",
    "print(\"Unique list from function: \", duplicate_Elimination(num_list))\n",
    "\n",
    "#String List for Testing\n",
    "str_list = [\"hi\", \"test\", \"ok\", \"test\", \"and\", \"yes\", \"hi\", \"zoo\"]\n",
    "\n",
    "print(\"\\nThe original string list: \", str_list)\n",
    "print(\"Unique list from function: \", duplicate_Elimination(str_list))"
   ]
  },
  {
   "cell_type": "markdown",
   "metadata": {},
   "source": [
    "4.) Re-do question 3 such that in addition to the unique values, the corresponding counts, too, are produced. The resulting list will be a list of tuples, where each tuple has a value and the corresponding count. The function’s body will still be just a single line."
   ]
  },
  {
   "cell_type": "code",
   "execution_count": 4,
   "metadata": {},
   "outputs": [
    {
     "name": "stdout",
     "output_type": "stream",
     "text": [
      "The original numeric list:  [3, 2, 5, 8, 1, 2, 6, 7, 2, 3, 1]\n",
      "Unique list from function:  [(1, 4), (2, 1), (3, 0), (5, 2), (6, 6), (7, 7), (8, 3)]\n",
      "\n",
      "The original string list:  ['hi', 'test', 'ok', 'test', 'and', 'yes', 'hi', 'zoo']\n",
      "Unique list from function:  [('and', 4), ('hi', 0), ('ok', 2), ('test', 1), ('yes', 5), ('zoo', 7)]\n"
     ]
    }
   ],
   "source": [
    "#List of tuples, value and corresponding count\n",
    "def duplicate_Elimination(list): \n",
    "    return sorted([ (x, i) for i, x in enumerate(list) if x not in list[:i]]) \n",
    "\n",
    "\n",
    "######################Testing Calls########################\n",
    "    \n",
    "#Numeric List for testing\n",
    "num_list = [3,2,5,8,1,2,6,7,2,3,1]\n",
    "\n",
    "print(\"The original numeric list: \",num_list)\n",
    "print(\"Unique list from function: \", duplicate_Elimination(num_list))\n",
    "\n",
    "#String List for Testing\n",
    "str_list = [\"hi\", \"test\", \"ok\", \"test\", \"and\", \"yes\", \"hi\", \"zoo\"]\n",
    "\n",
    "print(\"\\nThe original string list: \", str_list)\n",
    "print(\"Unique list from function: \", duplicate_Elimination(str_list))"
   ]
  },
  {
   "cell_type": "markdown",
   "metadata": {},
   "source": [
    "5.) Textbook 5.18\n",
    "\n",
    "    5.18 (SUMMING THE TRIPLES OF THE EVEN INTEGERS FROM 2 THROUGH 10) Starting with a list containing 1 through 10, use filter, map and sum to calculate the total of the triples of the even integers from 2 through 10. Reimplement your code with list comprehensions rather than filter and map."
   ]
  },
  {
   "cell_type": "code",
   "execution_count": 5,
   "metadata": {},
   "outputs": [
    {
     "name": "stdout",
     "output_type": "stream",
     "text": [
      "Original list:  [1, 2, 3, 4, 5, 6, 7, 8, 9, 10]\n",
      "--- Using Filter, Map and Sum ---\n",
      "Sum of the even value's triples from numbers:  1800\n",
      "\n",
      "--- Using List Comprehension ---\n",
      "Sum of the even value's triples from numbers:  1800\n"
     ]
    }
   ],
   "source": [
    "numbers = [1,2,3,4,5,6,7,8,9,10]\n",
    "\n",
    "#Using filter map and sum to calculate sum of even value's triples\n",
    "FMS = sum(map(lambda x: x**3,(filter(lambda x: x%2 == 0, numbers))))\n",
    "\n",
    "#Perform same task using List Comprehension\n",
    "comp = sum([num**3 for num in numbers if num % 2 == 0])\n",
    "\n",
    "print(\"Original list: \", numbers)\n",
    "print(\"--- Using Filter, Map and Sum ---\")\n",
    "print(\"Sum of the even value's triples from numbers: \", FMS)\n",
    "print(\"\\n--- Using List Comprehension ---\")\n",
    "print(\"Sum of the even value's triples from numbers: \", comp)"
   ]
  },
  {
   "cell_type": "markdown",
   "metadata": {},
   "source": [
    "6.) Textbook 5.19, “Locate the tuples” in the problem statement should be taken to mean “print the tuples as a list of tuples”.\n",
    "\n",
    "    5.19 (FINDING THE PEOPLE WITH A SPECIFIED LAST NAME) Create a list of tuples containing first and last names. Use filter to locate the tuples containing the last name Jones. Ensure that several tuples in your list have that last name."
   ]
  },
  {
   "cell_type": "code",
   "execution_count": 6,
   "metadata": {},
   "outputs": [
    {
     "name": "stdout",
     "output_type": "stream",
     "text": [
      "--- Original List of Names ---\n",
      "[('Nick', 'House'), ('Jenni', 'House'), ('Julie', 'Jones'), ('Davey', 'Jones'), ('Catherine-Zeta', 'Jones')]\n",
      "\n",
      "--- Using filter() to find Jones ---\n",
      "List of people with last name Jones:  [('Julie', 'Jones'), ('Davey', 'Jones'), ('Catherine-Zeta', 'Jones')]\n"
     ]
    }
   ],
   "source": [
    "names = [('Nick', 'House'), ('Jenni', 'House'), ('Julie', 'Jones'), ('Davey', 'Jones'), ('Catherine-Zeta', 'Jones')]\n",
    "\n",
    "print(\"--- Original List of Names ---\")\n",
    "print(names)\n",
    "\n",
    "#Create List of tuples with people of last Name Jones using filter()\n",
    "fil = list(filter(lambda x: x[1] == 'Jones', names))\n",
    "\n",
    "#Print Results\n",
    "print(\"\\n--- Using filter() to find Jones ---\")\n",
    "print(\"List of people with last name Jones: \", fil)"
   ]
  },
  {
   "cell_type": "markdown",
   "metadata": {},
   "source": [
    "7.) Re-do question 6 using list comprehension (no filter)"
   ]
  },
  {
   "cell_type": "code",
   "execution_count": 7,
   "metadata": {},
   "outputs": [
    {
     "name": "stdout",
     "output_type": "stream",
     "text": [
      "--- Original List of Names ---\n",
      "[('Nick', 'House'), ('Jenni', 'House'), ('Julie', 'Jones'), ('Davey', 'Jones'), ('Catherine-Zeta', 'Jones')]\n",
      "\n",
      "--- Using List Comprehension to find Jones ---\n",
      "List of people with last name Jones:  [('Julie', 'Jones'), ('Davey', 'Jones'), ('Catherine-Zeta', 'Jones')]\n"
     ]
    }
   ],
   "source": [
    "names = [('Nick', 'House'), ('Jenni', 'House'), ('Julie', 'Jones'), ('Davey', 'Jones'), ('Catherine-Zeta', 'Jones')]\n",
    "\n",
    "print(\"--- Original List of Names ---\")\n",
    "print(names)\n",
    "\n",
    "#Create list of tuples with people of last name Jones using list comprehension\n",
    "comp = [x for x in names if x[1] == 'Jones']\n",
    "\n",
    "#Print Results\n",
    "print(\"\\n--- Using List Comprehension to find Jones ---\")\n",
    "print(\"List of people with last name Jones: \", comp)"
   ]
  },
  {
   "cell_type": "markdown",
   "metadata": {},
   "source": [
    "8.) Textbook excercise 5.22\n",
    "\n",
    "    5.22 (SIMULATING A QUEUE WITH A LIST) In this chapter, you simulated a stack using a list. You also can simulate a queue collection with a list. Queues represent waiting lines similar to a checkout line in a supermarket. The cashier services the person at the front of the line first. Other customers enter the line only at the end and wait for service.\n",
    "\n",
    "    In a queue, you insert items at the back (known as the tail) and delete items from the front (known as the head). For this reason, queues are first-in, first-out (FIFO) collections. The insert and remove operations are commonly known as enqueue and dequeue.\n",
    "\n",
    "    Queues have many uses in computer systems, such as sharing CPUs among a potentially large number of competing applications and the operating system itself. Applications not currently being serviced sit in a queue until a CPU becomes available. The application at the front of the queue is the next to receive service. Each application gradually advances to the front as the applications before it receive service.\n",
    "\n",
    "    Simulate a queue of integers using list methods append (to simulate enqueue) and pop with the argument 0 (to simulate dequeue). Enqueue the values 3, 2 and 1, then dequeue them to show that they’re removed in FIFO order."
   ]
  },
  {
   "cell_type": "code",
   "execution_count": 8,
   "metadata": {},
   "outputs": [
    {
     "name": "stdout",
     "output_type": "stream",
     "text": [
      "Create queue by enqueing values 3, 2 then 1 \n",
      "Current values in queue:  [3, 2, 1]\n",
      "\n",
      "Deque first value entered (3) off the stack:  3\n",
      "Remaining values in the stack after first deque  [2, 1]\n",
      "\n",
      "Deque second value (2) entered into the queue:  2\n",
      "Remaing values in the stack after second deque:  [1]\n",
      "\n",
      "Deque third value (3) entered into the queue:  1\n",
      "Remaining values in the stack after third deque:  []\n"
     ]
    }
   ],
   "source": [
    "#Simulate Que\n",
    "stack = []\n",
    "\n",
    "#Simulate Enque of values 3,2,1\n",
    "stack.append(3)\n",
    "stack.append(2)\n",
    "stack.append(1)\n",
    "\n",
    "#Message\n",
    "print(\"Create queue by enqueing values 3, 2 then 1 \")\n",
    "print(\"Current values in queue: \", stack)\n",
    "\n",
    "#Deque First Value in (FIFO)\n",
    "print(\"\\nDeque first value entered (3) off the stack: \", stack.pop(0))\n",
    "print(\"Remaining values in the stack after first deque \" , stack)\n",
    "\n",
    "#Deque Second Value in \n",
    "print(\"\\nDeque second value (2) entered into the queue: \", stack.pop(0))\n",
    "print(\"Remaing values in the stack after second deque: \", stack)\n",
    "\n",
    "#Deque Third Value in\n",
    "print(\"\\nDeque third value (3) entered into the queue: \", stack.pop(0))\n",
    "print(\"Remaining values in the stack after third deque: \", stack)\n",
    "\n"
   ]
  },
  {
   "cell_type": "markdown",
   "metadata": {},
   "source": [
    "9.) Textbook exercise 5.23\n",
    "\n",
    "    5.23 (FUNCTIONAL-STYLE PROGRAMMING: ORDER OF FILTER AND MAP CALLS) When combining filter and map operations, the order in which they’re performed matters. Consider a list numbers containing 10, 3, 7, 1, 9, 4, 2, 8, 5, 6 and the following code:\n",
    "\n",
    "\n",
    "    In [1]: numbers = [10, 3, 7, 1, 9, 4, 2, 8, 5, 6]\n",
    "\n",
    "    In [2]: list(map(lambda x: x * 2,\n",
    "       ...:          filter(lambda x: x % 2 == 0, numbers)))\n",
    "       ...:\n",
    "    Out[3]: [20, 8, 4, 16, 12]\n",
    "\n",
    "   \n",
    "   Reorder this code to call map first and filter second. What happens and why?\n",
    "   \n",
    "-------- WRITTEN ANSWER -------\n",
    "\n",
    "By definition any integer (n) mulitiplied by the number 2 is an even number referenced as 2n. Also by definition if an integer n % 2 = 0 it is also even. \n",
    "\n",
    "When map is called first all the integers (n) in the list numbers is multiplied by 2, becoming 2n. When filter is called it will populate a new list with all the elements found with in the list numbers that meet the following, 2n % 2 = 0 , because 2n is even by definition and every even number modulo 2 is equal to 0 all elements in the list numbers will be added to the new list.  \n",
    "\n",
    "So what is printed is a list of every element in the original list multiplied by 2. "
   ]
  },
  {
   "cell_type": "code",
   "execution_count": 9,
   "metadata": {},
   "outputs": [
    {
     "data": {
      "text/plain": [
       "[20, 6, 14, 2, 18, 8, 4, 16, 10, 12]"
      ]
     },
     "execution_count": 9,
     "metadata": {},
     "output_type": "execute_result"
    }
   ],
   "source": [
    "numbers = [10, 3, 7, 1, 9, 4, 2, 8, 5, 6]\n",
    "\n",
    "#Call map first then filter\n",
    "list(filter(lambda x: x%2==0, map(lambda x: x * 2, numbers)))"
   ]
  },
  {
   "cell_type": "markdown",
   "metadata": {},
   "source": [
    "10.) Print the index of the max element in a given list of integers. "
   ]
  },
  {
   "cell_type": "code",
   "execution_count": 10,
   "metadata": {},
   "outputs": [
    {
     "name": "stdout",
     "output_type": "stream",
     "text": [
      "List of integers:  [67, 27, 82, 74, 59, 42, 38, 51, 2, 22]\n",
      "\n",
      "The index of the max value:  2\n",
      "Value of List[2]:  82\n"
     ]
    }
   ],
   "source": [
    "#Create random list of integers\n",
    "import random\n",
    "r_list = [random.randint(0,100) for x in range(0,10)]\n",
    "\n",
    "#Get Index of Highest Value in List\n",
    "index = r_list.index(max(r_list))\n",
    "\n",
    "print(\"List of integers: \", r_list)\n",
    "print(\"\\nThe index of the max value: \", index)\n",
    "print(\"Value of List[%d]: \" %index, r_list[index])\n",
    "\n"
   ]
  }
 ],
 "metadata": {
  "kernelspec": {
   "display_name": "Python 3",
   "language": "python",
   "name": "python3"
  },
  "language_info": {
   "codemirror_mode": {
    "name": "ipython",
    "version": 3
   },
   "file_extension": ".py",
   "mimetype": "text/x-python",
   "name": "python",
   "nbconvert_exporter": "python",
   "pygments_lexer": "ipython3",
   "version": "3.8.1"
  }
 },
 "nbformat": 4,
 "nbformat_minor": 4
}
