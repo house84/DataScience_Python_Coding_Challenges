{
 "cells": [
  {
   "cell_type": "markdown",
   "metadata": {},
   "source": [
    "This Code Generates Digits of Pi using Spigot's algorithm.\n",
    "This code will attempt to create up to One Million Digits of Pi, and will generate a Pi.txt file every 100,000 digits it creates and save it's current approximation of Pi. "
   ]
  },
  {
   "cell_type": "code",
   "execution_count": 1,
   "metadata": {},
   "outputs": [
    {
     "name": "stdout",
     "output_type": "stream",
     "text": [
      "[3]\n",
      "[3, 1]\n",
      "[3, 1, 4]\n",
      "[3, 1, 4, 1]\n",
      "[3, 1, 4, 1, 5]\n",
      "[3, 1, 4, 1, 5, 9]\n",
      "[3, 1, 4, 1, 5, 9, 2]\n",
      "[3, 1, 4, 1, 5, 9, 2, 6]\n",
      "[3, 1, 4, 1, 5, 9, 2, 6, 5]\n",
      "[3, 1, 4, 1, 5, 9, 2, 6, 5, 3]\n",
      "[3, 1, 4, 1, 5, 9, 2, 6, 5, 3, 5]\n",
      "[3, 1, 4, 1, 5, 9, 2, 6, 5, 3, 5, 8]\n",
      "[3, 1, 4, 1, 5, 9, 2, 6, 5, 3, 5, 8, 9]\n",
      "[3, 1, 4, 1, 5, 9, 2, 6, 5, 3, 5, 8, 9, 7]\n",
      "[3, 1, 4, 1, 5, 9, 2, 6, 5, 3, 5, 8, 9, 7, 9]\n",
      "[3, 1, 4, 1, 5, 9, 2, 6, 5, 3, 5, 8, 9, 7, 9, 3]\n",
      "[3, 1, 4, 1, 5, 9, 2, 6, 5, 3, 5, 8, 9, 7, 9, 3, 2]\n",
      "[3, 1, 4, 1, 5, 9, 2, 6, 5, 3, 5, 8, 9, 7, 9, 3, 2, 3]\n",
      "[3, 1, 4, 1, 5, 9, 2, 6, 5, 3, 5, 8, 9, 7, 9, 3, 2, 3, 8]\n",
      "[3, 1, 4, 1, 5, 9, 2, 6, 5, 3, 5, 8, 9, 7, 9, 3, 2, 3, 8, 4]\n"
     ]
    }
   ],
   "source": [
    "#https://gist.github.com/deeplook/4947835\n",
    "\n",
    "def pi_digits(n):\n",
    "    \"Generate n digits of Pi.\"\n",
    "    k, a, b, a1, b1 = 2, 4, 1, 12, 4\n",
    "    while n > 0:\n",
    "        p, q, k = k * k, 2 * k + 1, k + 1\n",
    "        a, b, a1, b1 = a1, b1, p * a + q * a1, p * b + q * b1\n",
    "        d, d1 = a / b, a1 / b1\n",
    "        while d == d1 and n > 0:\n",
    "            yield int(d)\n",
    "            n -= 1\n",
    "            a, a1 = 10 * (a % b), 10 * (a1 % b1)\n",
    "            d, d1 = a / b, a1 / b1\n",
    "\n",
    "pi =\"\"\n",
    "n=1\n",
    "for i in pi_digits(20):\n",
    "  #pi += str(i)\n",
    "  #print(\"Pi: %s  ::  i: %d\" %(pi, i))\n",
    "  print(list(pi_digits(n)))\n",
    "  n = n+1\n",
    "# [3, 1, 4, 1, 5, 9, 2, 6, 5, 3, 5, 8, 9, 7, 9, 3, 2, 3, 8, 4]"
   ]
  },
  {
   "cell_type": "code",
   "execution_count": null,
   "metadata": {},
   "outputs": [
    {
     "name": "stdout",
     "output_type": "stream",
     "text": [
      "Digits of Pi created: 504675"
     ]
    }
   ],
   "source": [
    "import sys\n",
    "import time\n",
    "\n",
    "#Algorithm Used is based on Spigot's Algorithm\n",
    "#https://gist.github.com/deeplook/4947835\n",
    "\n",
    "def pi_digits(n):\n",
    "    \"Generate n digits of Pi.\"\n",
    "    k, a, b, a1, b1 = 2, 4, 1, 12, 4\n",
    "    while n > 0:\n",
    "        p, q, k = k * k, 2 * k + 1, k + 1\n",
    "        a, b, a1, b1 = a1, b1, p * a + q * a1, p * b + q * b1\n",
    "        d, d1 = a / b, a1 / b1\n",
    "        while d == d1 and n > 0:\n",
    "            yield int(d)\n",
    "            n -= 1\n",
    "            a, a1 = 10 * (a % b), 10 * (a1 % b1)\n",
    "            d, d1 = a / b, a1 / b1               \n",
    "#End of Used Algorithm\n",
    "\n",
    "pi = \"\"\n",
    "n=0\n",
    "flag=0\n",
    "\n",
    "#Test number 14654\n",
    "\n",
    "for i in pi_digits(1000000):\n",
    "  pi += str(i)\n",
    "  n = n+1\n",
    "\n",
    "  sys.stdout.write(\"\\rDigits of Pi created: %d\" %n)\n",
    "  sys.stdout.flush()\n",
    "\n",
    "  if n % 100000 == 0:\n",
    "    file = open(\"pi.txt\", \"w+\")\n",
    "    file.write(\"Digits of Pi: %d\\n\" %n)\n",
    "    file.write(pi)\n",
    "    file.close()\n",
    "    \n",
    "  if n == 1000000:\n",
    "    print(\"\\nOne Million Digits of Pi has been generated!!\")\n",
    "    file = open(\"pi.txt\", \"w+\")\n",
    "    file.write(\"Digits of Pi: %d\\n\" %n)\n",
    "    file.write(pi)\n",
    "    file.close()\n",
    "    flag=1\n",
    "    break\n",
    "    \n",
    "if flag == 0:\n",
    "    print(\"\\nFailed to generate one million digits of Pi, %d digits have been created.\" %n)\n",
    "    \n",
    "    "
   ]
  },
  {
   "cell_type": "code",
   "execution_count": null,
   "metadata": {},
   "outputs": [],
   "source": []
  }
 ],
 "metadata": {
  "kernelspec": {
   "display_name": "Python 3",
   "language": "python",
   "name": "python3"
  },
  "language_info": {
   "codemirror_mode": {
    "name": "ipython",
    "version": 3
   },
   "file_extension": ".py",
   "mimetype": "text/x-python",
   "name": "python",
   "nbconvert_exporter": "python",
   "pygments_lexer": "ipython3",
   "version": "3.8.1"
  }
 },
 "nbformat": 4,
 "nbformat_minor": 4
}
